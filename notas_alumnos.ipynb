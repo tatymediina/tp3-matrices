{
 "cells": [
  {
   "cell_type": "code",
   "execution_count": null,
   "metadata": {},
   "outputs": [
    {
     "name": "stdout",
     "output_type": "stream",
     "text": [
      "El alumno ya existe. Ingrese otra materia o modifique una nota existente.\n",
      "\n",
      "Lista de alumnos:\n",
      "['marian', [['8', 8.0]]]\n"
     ]
    }
   ],
   "source": [
    "alumnos = []\n",
    "\n",
    "def agregar_o_modificar_alumno():\n",
    "    nombre = input(\"Ingrese el nombre del alumno: \")\n",
    "    \n",
    "    # *Verificar si el alumno ya existe\n",
    "    for alumno in alumnos:\n",
    "        if alumno[0] == nombre:\n",
    "            print(\"El alumno ya existe. Ingrese otra materia o modifique una nota existente.\")\n",
    "            materia = input(\"Ingrese el nombre de la materia: \")\n",
    "            nota = float(input(\"Ingrese la nota: \"))\n",
    "            \n",
    "            for materia_existente in alumno[1]:\n",
    "                if materia_existente[0] == materia:\n",
    "                    materia_existente[1] = nota\n",
    "                    return\n",
    "            \n",
    "            alumno[1].append([materia, nota])\n",
    "            return\n",
    "    \n",
    "    # * Si el alumno no existe, se agrega uno nuevo\n",
    "    materia = input(\"Ingrese el nombre de la materia: \")\n",
    "    nota = float(input(\"Ingrese la nota: \"))\n",
    "    alumnos.append([nombre, [[materia, nota]]])\n",
    "\n",
    "def mostrar_alumnos():\n",
    "    print(\"\\nLista de alumnos:\")\n",
    "    for alumno in alumnos:\n",
    "        print(alumno)\n",
    "\n",
    "while True:\n",
    "    agregar_o_modificar_alumno()\n",
    "    \n",
    "    continuar = input(\"¿Desea agregar/modificar otro alumno? (s/n): \").strip().lower()\n",
    "    if continuar != 's':\n",
    "        break\n",
    "\n",
    "mostrar_alumnos()\n"
   ]
  }
 ],
 "metadata": {
  "kernelspec": {
   "display_name": "Python 3",
   "language": "python",
   "name": "python3"
  },
  "language_info": {
   "codemirror_mode": {
    "name": "ipython",
    "version": 3
   },
   "file_extension": ".py",
   "mimetype": "text/x-python",
   "name": "python",
   "nbconvert_exporter": "python",
   "pygments_lexer": "ipython3",
   "version": "3.12.9"
  }
 },
 "nbformat": 4,
 "nbformat_minor": 2
}
